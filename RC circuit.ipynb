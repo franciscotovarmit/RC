{
 "cells": [
  {
   "cell_type": "markdown",
   "id": "f60d2773",
   "metadata": {},
   "source": [
    "Modelling of Valve as RC circuit "
   ]
  },
  {
   "cell_type": "markdown",
   "id": "f75886df",
   "metadata": {},
   "source": [
    "## Diagram "
   ]
  },
  {
   "cell_type": "markdown",
   "id": "069f5919",
   "metadata": {},
   "source": [
    "![title](img/valveDiagram.PNG)"
   ]
  },
  {
   "cell_type": "code",
   "execution_count": 1,
   "id": "99b479e4",
   "metadata": {},
   "outputs": [
    {
     "ename": "ModuleNotFoundError",
     "evalue": "No module named 'SchemDraw'",
     "output_type": "error",
     "traceback": [
      "\u001b[1;31m---------------------------------------------------------------------------\u001b[0m",
      "\u001b[1;31mModuleNotFoundError\u001b[0m                       Traceback (most recent call last)",
      "\u001b[1;32m<ipython-input-1-51819fdea369>\u001b[0m in \u001b[0;36m<module>\u001b[1;34m\u001b[0m\n\u001b[0;32m      3\u001b[0m \u001b[0mget_ipython\u001b[0m\u001b[1;33m(\u001b[0m\u001b[1;33m)\u001b[0m\u001b[1;33m.\u001b[0m\u001b[0mrun_line_magic\u001b[0m\u001b[1;33m(\u001b[0m\u001b[1;34m'matplotlib'\u001b[0m\u001b[1;33m,\u001b[0m \u001b[1;34m'inline'\u001b[0m\u001b[1;33m)\u001b[0m\u001b[1;33m\u001b[0m\u001b[1;33m\u001b[0m\u001b[0m\n\u001b[0;32m      4\u001b[0m \u001b[0mget_ipython\u001b[0m\u001b[1;33m(\u001b[0m\u001b[1;33m)\u001b[0m\u001b[1;33m.\u001b[0m\u001b[0mrun_line_magic\u001b[0m\u001b[1;33m(\u001b[0m\u001b[1;34m'config'\u001b[0m\u001b[1;33m,\u001b[0m \u001b[1;34m\"InlineBackend.figure_format = 'svg'\"\u001b[0m\u001b[1;33m)\u001b[0m\u001b[1;33m\u001b[0m\u001b[1;33m\u001b[0m\u001b[0m\n\u001b[1;32m----> 5\u001b[1;33m \u001b[1;32mimport\u001b[0m \u001b[0mSchemDraw\u001b[0m \u001b[1;32mas\u001b[0m \u001b[0mschem\u001b[0m\u001b[1;33m\u001b[0m\u001b[1;33m\u001b[0m\u001b[0m\n\u001b[0m\u001b[0;32m      6\u001b[0m \u001b[1;32mimport\u001b[0m \u001b[0mSchemDraw\u001b[0m\u001b[1;33m.\u001b[0m\u001b[0melements\u001b[0m \u001b[1;32mas\u001b[0m \u001b[0me\u001b[0m\u001b[1;33m\u001b[0m\u001b[1;33m\u001b[0m\u001b[0m\n",
      "\u001b[1;31mModuleNotFoundError\u001b[0m: No module named 'SchemDraw'"
     ]
    }
   ],
   "source": [
    "import matplotlib.pyplot as plt\n",
    "#plt.xkcd() #to make the diagram look hand drawn\n",
    "%matplotlib inline\n",
    "%config InlineBackend.figure_format = 'svg'\n",
    "import SchemDraw as schem\n",
    "import SchemDraw.elements as e\n"
   ]
  },
  {
   "cell_type": "markdown",
   "id": "052cecac",
   "metadata": {},
   "source": [
    "## Equilibrium Equations"
   ]
  },
  {
   "cell_type": "code",
   "execution_count": 212,
   "id": "4ec0ddd7",
   "metadata": {},
   "outputs": [
    {
     "data": {
      "text/latex": [
       "$\\displaystyle  \\Delta P= R Q$"
      ],
      "text/plain": [
       "<IPython.core.display.Math object>"
      ]
     },
     "execution_count": 212,
     "metadata": {},
     "output_type": "execute_result"
    }
   ],
   "source": [
    "Math (r' \\Delta P= R Q')"
   ]
  },
  {
   "cell_type": "code",
   "execution_count": 223,
   "id": "809faec2",
   "metadata": {},
   "outputs": [
    {
     "data": {
      "text/latex": [
       "\\begin{eqnarray}\n",
       "P_i -P_o= R q \\\\\n",
       "C = \\frac{dm}{dP_o} \\\\\n",
       "q =  dm/dt \\\\\n",
       "C = \\frac{\\Delta V}{\\Delta P}\\\\\n",
       "\n",
       "\n",
       "\\end{eqnarray}"
      ],
      "text/plain": [
       "<IPython.core.display.Latex object>"
      ]
     },
     "execution_count": 223,
     "metadata": {},
     "output_type": "execute_result"
    }
   ],
   "source": [
    "from IPython.display import Latex\n",
    "Latex(r\"\"\"\\begin{eqnarray}\n",
    "P_i -P_o= R q \\\\\n",
    "C = \\frac{dm}{dP_o} \\\\\n",
    "q =  dm/dt \\\\\n",
    "C = \\frac{\\Delta V}{\\Delta P}\\\\\n",
    "\n",
    "\n",
    "\\end{eqnarray}\"\"\")"
   ]
  },
  {
   "cell_type": "code",
   "execution_count": 229,
   "id": "4eb5e03e",
   "metadata": {},
   "outputs": [
    {
     "data": {
      "text/latex": [
       "\\begin{eqnarray}\n",
       "A =[-\\frac{1}{RC}]   \\quad\n",
       "B =[\\frac{1}{RC}]\\\\[0.1in]\n",
       "C =[1]   \\quad\n",
       "D = [0]\\\\\n",
       "\\end{eqnarray}"
      ],
      "text/plain": [
       "<IPython.core.display.Latex object>"
      ]
     },
     "execution_count": 229,
     "metadata": {},
     "output_type": "execute_result"
    }
   ],
   "source": [
    "from IPython.display import Latex\n",
    "Latex(r\"\"\"\\begin{eqnarray}\n",
    "A =[-\\frac{1}{RC}]   \\quad\n",
    "B =[\\frac{1}{RC}]\\\\[0.1in]\n",
    "C =[1]   \\quad\n",
    "D = [0]\\\\\n",
    "\\end{eqnarray}\"\"\")"
   ]
  },
  {
   "cell_type": "code",
   "execution_count": 3,
   "id": "f1dc0800",
   "metadata": {},
   "outputs": [
    {
     "data": {
      "text/latex": [
       "$\\displaystyle  R=\\frac{8nL}{\\pi r^4}$"
      ],
      "text/plain": [
       "<IPython.core.display.Math object>"
      ]
     },
     "execution_count": 3,
     "metadata": {},
     "output_type": "execute_result"
    }
   ],
   "source": [
    "from IPython.display import Math\n",
    "Math (r' R=\\frac{8nL}{\\pi r^4}')"
   ]
  },
  {
   "cell_type": "code",
   "execution_count": 4,
   "id": "8c526a43",
   "metadata": {},
   "outputs": [
    {
     "data": {
      "text/latex": [
       "$\\displaystyle  L=\\frac{\\rho L}{\\pi r^2}$"
      ],
      "text/plain": [
       "<IPython.core.display.Math object>"
      ]
     },
     "execution_count": 4,
     "metadata": {},
     "output_type": "execute_result"
    }
   ],
   "source": [
    "from IPython.display import Math\n",
    "Math (r' L=\\frac{\\rho L}{\\pi r^2}')"
   ]
  },
  {
   "cell_type": "markdown",
   "id": "04017960",
   "metadata": {},
   "source": [
    "## Differential Equation"
   ]
  },
  {
   "cell_type": "code",
   "execution_count": 5,
   "id": "87091f56",
   "metadata": {},
   "outputs": [
    {
     "data": {
      "text/latex": [
       "$\\displaystyle  RC\\frac{dP_o(t)}{dt}+P_o=P_i$"
      ],
      "text/plain": [
       "<IPython.core.display.Math object>"
      ]
     },
     "execution_count": 5,
     "metadata": {},
     "output_type": "execute_result"
    }
   ],
   "source": [
    "from IPython.display import Math\n",
    "Math (r' RC\\frac{dP_o(t)}{dt}+P_o=P_i')\n"
   ]
  },
  {
   "cell_type": "code",
   "execution_count": 6,
   "id": "ef69cff5",
   "metadata": {},
   "outputs": [
    {
     "data": {
      "text/latex": [
       "$\\displaystyle  \\frac{dP_o(t)}{dt}=\\frac{1}{RC}P_i(t)-\\frac{1}{RC}P_o(t)$"
      ],
      "text/plain": [
       "<IPython.core.display.Math object>"
      ]
     },
     "execution_count": 6,
     "metadata": {},
     "output_type": "execute_result"
    }
   ],
   "source": [
    "from IPython.display import Math\n",
    "Math (r' \\frac{dP_o(t)}{dt}=\\frac{1}{RC}P_i(t)-\\frac{1}{RC}P_o(t)')\n"
   ]
  },
  {
   "cell_type": "code",
   "execution_count": 11,
   "id": "803aabd8",
   "metadata": {},
   "outputs": [
    {
     "data": {
      "text/latex": [
       "$\\displaystyle  \\frac{dP_o(t)}{dt}=\\frac{1}{RC}P_i(t)-\\frac{1}{RC}P_o(t)$"
      ],
      "text/plain": [
       "<IPython.core.display.Math object>"
      ]
     },
     "execution_count": 11,
     "metadata": {},
     "output_type": "execute_result"
    }
   ],
   "source": [
    "from IPython.display import Math\n",
    "Math (r' \\frac{dP_o(t)}{dt}=\\frac{1}{RC}P_i(t)-\\frac{1}{RC}P_o(t)')"
   ]
  },
  {
   "cell_type": "code",
   "execution_count": null,
   "id": "a9c32a94",
   "metadata": {},
   "outputs": [],
   "source": [
    "####Inetial effect liquids\n"
   ]
  },
  {
   "cell_type": "code",
   "execution_count": 49,
   "id": "eadc3576",
   "metadata": {},
   "outputs": [
    {
     "data": {
      "text/latex": [
       "$\\displaystyle  P_i(t) = \\frac{LCd^2P_o(t)}{dt^2}-\\frac{R_cC_ddP_o(t)}{dt}+P_o(t)$"
      ],
      "text/plain": [
       "<IPython.core.display.Math object>"
      ]
     },
     "execution_count": 49,
     "metadata": {},
     "output_type": "execute_result"
    }
   ],
   "source": [
    "from IPython.display import Math\n",
    "Math (r' P_i(t) = \\frac{LCd^2P_o(t)}{dt^2}-\\frac{R_cC_ddP_o(t)}{dt}+P_o(t)')"
   ]
  },
  {
   "cell_type": "code",
   "execution_count": 48,
   "id": "09b96f81",
   "metadata": {},
   "outputs": [
    {
     "data": {
      "text/latex": [
       "$\\displaystyle  \\frac{d^2 P_o}{dt^2} = -\\frac{R}{L}\\frac{dP_o(t)}{dt}-\\frac{P_o(t)}{LC} +\\frac{P_i}{LC}$"
      ],
      "text/plain": [
       "<IPython.core.display.Math object>"
      ]
     },
     "execution_count": 48,
     "metadata": {},
     "output_type": "execute_result"
    }
   ],
   "source": [
    "from IPython.display import Math\n",
    "Math (r' \\frac{d^2 P_o}{dt^2} = \\frac{R}{L}\\frac{dP_o(t)}{dt}-\\frac{P_o(t)}{LC} +\\frac{P_i}{LC}')"
   ]
  },
  {
   "cell_type": "code",
   "execution_count": 47,
   "id": "76102551",
   "metadata": {},
   "outputs": [
    {
     "data": {
      "text/latex": [
       "\\begin{eqnarray}\n",
       "A =\\begin{bmatrix}\n",
       "0 & 1 \\\\\n",
       "-\\frac{1}{RC} & -R/L \n",
       "\\end{bmatrix}\n",
       "\n",
       "B =\\begin{bmatrix}\n",
       "0 \\\\ \\frac{1}{LC}  \n",
       "\\end{bmatrix}\\\\[0.1in]\n",
       "C =[1 & \\quad 0]   \\quad\n",
       "D = [0]\\\\\n",
       "\\end{eqnarray}"
      ],
      "text/plain": [
       "<IPython.core.display.Latex object>"
      ]
     },
     "execution_count": 47,
     "metadata": {},
     "output_type": "execute_result"
    }
   ],
   "source": [
    "from IPython.display import Latex\n",
    "Latex(r\"\"\"\\begin{eqnarray}\n",
    "A =\\begin{bmatrix}\n",
    "0 & 1 \\\\\n",
    "-\\frac{1}{RC} & -R/L \n",
    "\\end{bmatrix}\n",
    "\n",
    "B =\\begin{bmatrix}\n",
    "0 \\\\ \\frac{1}{LC}  \n",
    "\\end{bmatrix}\\\\[0.1in]\n",
    "C =[1 & \\quad 0]   \\quad\n",
    "D = [0]\\\\\n",
    "\\end{eqnarray}\"\"\")"
   ]
  },
  {
   "cell_type": "code",
   "execution_count": 12,
   "id": "2b831ccb",
   "metadata": {},
   "outputs": [],
   "source": [
    "import numpy as np\n",
    "import math\n",
    "import control\n",
    "import matplotlib.pyplot as plt\n",
    "from scipy import signal\n",
    "from scipy.signal import ss2tf"
   ]
  },
  {
   "cell_type": "code",
   "execution_count": 13,
   "id": "5758826b",
   "metadata": {},
   "outputs": [],
   "source": [
    "# RC problem\n",
    "#defining circuit properties\n",
    "# RC problem\n",
    "#defining circuit properties\n",
    "\n",
    "# Resistance\n",
    "nu =   1.8e-05 #air  #water 0.001  #Pa s\n",
    "lenghtValve = 800e-6 + 725e-6 #1.0 #m\n",
    "lenghtTube = 0.6\n",
    "r =150e-6 #3.0e-4 #m\n",
    "rho = 1000.0\n",
    "# it would be better to use Pressure/Flowrate\n",
    "\n",
    "#R = 47e3\n",
    "#C = 1000e-9\n",
    "Rvalv = 8.0*nu*lenghtValve/(math.pi*pow(r,4.0))   #5.6e9 #47e3\n",
    "Rcommon = 8.0*nu*lenghtTube/(math.pi*pow(r,4.0))   #5.6e9 #47e3\n",
    "RLoss = Rcommon*0.1\n",
    "\n",
    "R = Rvalv + Rcommon + RLoss"
   ]
  },
  {
   "cell_type": "code",
   "execution_count": 15,
   "id": "75343681",
   "metadata": {},
   "outputs": [],
   "source": [
    "\n",
    "#capacitance\n",
    "#Cap = 1/(.49e15)  #2.07e-12 #1000e-9\n",
    "#Cap = deltaP/deltaVol  pressure  needed to raise 1 volume\n",
    "volChamber = 100e-6*600e-6*450e-6 #100e-6*2e-3*1e-3# 0.0001*0.00002*0.001\n",
    "Percentage_Expansion = 1.3 #1.5 #0.5\n",
    "volTube = (lenghtValve+lenghtTube)*(3.1416*pow(r,2.0))\n",
    "dV =   volTube + volChamber \n",
    "dP = 40e3\n",
    "V1 = volChamber + volTube\n",
    "V2 = V1*Percentage_Expansion\n",
    "dV = abs(V2-V1)\n",
    "Cap = dV/dP"
   ]
  },
  {
   "cell_type": "code",
   "execution_count": 18,
   "id": "9ca45b37",
   "metadata": {},
   "outputs": [
    {
     "name": "stdout",
     "output_type": "stream",
     "text": [
      "vol chamber:    2.70E-11\n",
      "vol Tube:    4.25E-08\n",
      "vol Tot:    1.28E-08\n",
      "vol 1:    4.25E-08\n",
      "vol 2:    5.53E-08\n",
      "dV:    1.28E-08\n",
      "R:    5.99E+10\n",
      "C:  3.19e-13\n",
      "freq  8.327242816194834\n",
      "rc [s]:  0.019112517123885564\n",
      "5 *t [s]:  0.09556258561942782\n"
     ]
    }
   ],
   "source": [
    "print('vol chamber: ',format(volChamber,\"10.2E\"))\n",
    "print('vol Tube: ',format(volTube,\"10.2E\"))\n",
    "print('vol Tot: ',format(dV,\"10.2E\"))\n",
    "print('vol 1: ',format(V1,\"10.2E\"))\n",
    "print('vol 2: ',format(V2,\"10.2E\"))\n",
    "print('dV: ',format(dV,\"10.2E\"))\n",
    "print('R: ',format(R,\"10.2E\"))\n",
    "print('C: ',format(Cap,\"5.2e\"))\n",
    "print('freq ', 1/(2*3.1416*R*Cap)) # 1/(2*3.1416*pow(L*Cap,0.5)))\n",
    "print('rc [s]: ',R*Cap)\n",
    "print('5 *t [s]: ',5*R*Cap)\n"
   ]
  },
  {
   "cell_type": "code",
   "execution_count": 19,
   "id": "6fe0fc8d",
   "metadata": {},
   "outputs": [
    {
     "name": "stdout",
     "output_type": "stream",
     "text": [
      "Tau 0.019112517123885564\n",
      "5 *Tau 0.09556258561942782\n"
     ]
    }
   ],
   "source": [
    "\n",
    "Tau = R*Cap\n",
    "print('Tau', Tau)\n",
    "print('5 *Tau',5*Tau)\n",
    "C =Cap\n",
    "#state space matrix\n",
    "A = [-1/(R*C)]\n",
    "B = [1/(R*C)]\n",
    "C = [1.0]\n",
    "D = [0.0]\n",
    "\n",
    "sys1 = signal.StateSpace(A,B,C,D)   # state space\n",
    "t1,y1 = signal.step(sys1)           # step response\n"
   ]
  },
  {
   "cell_type": "code",
   "execution_count": 20,
   "id": "2618880a",
   "metadata": {},
   "outputs": [],
   "source": [
    "import matplotlib.pyplot as plt"
   ]
  },
  {
   "cell_type": "code",
   "execution_count": 21,
   "id": "7ce1cfd7",
   "metadata": {},
   "outputs": [
    {
     "name": "stderr",
     "output_type": "stream",
     "text": [
      "C:\\Users\\E90041\\Anaconda3\\lib\\site-packages\\scipy\\signal\\filter_design.py:1630: BadCoefficients: Badly conditioned filter coefficients (numerator): the results may be meaningless\n",
      "  warnings.warn(\"Badly conditioned filter coefficients (numerator): the \"\n"
     ]
    },
    {
     "data": {
      "image/png": "[encoded data removed]",
      "text/plain": [
       "<Figure size 432x288 with 2 Axes>"
      ]
     },
     "metadata": {
      "needs_background": "light"
     },
     "output_type": "display_data"
    }
   ],
   "source": [
    "plt.figure()\n",
    "plt.subplot(3,1,1)\n",
    "plt.plot(t1,y1,'r-',linewidth=3)\n",
    "plt.ylabel('Step response')\n",
    "plt.xlabel('Time(s)')\n",
    "plt.xlim(0, 0.15)\n",
    "plt.legend(['P'],loc='best')\n",
    "\n",
    "a= ss2tf(A, B, C, D)  #getting transfer function\n",
    "sys = signal.TransferFunction(a[0], a[1])\n",
    "w, mag, phase = signal.bode(sys)\n",
    "plt.subplot(3,1,3)\n",
    "plt.semilogx(w, mag)    # Bode magnitude plot\n",
    "plt.ylabel('BodePlot')\n",
    "plt.xlabel('freq [Hz]')\n",
    "plt.show()\n",
    "\n",
    "\n"
   ]
  },
  {
   "cell_type": "markdown",
   "id": "8a3983dd",
   "metadata": {},
   "source": [
    "#  Valve 2 Longer Input tube and Smaller  chamber"
   ]
  },
  {
   "cell_type": "code",
   "execution_count": 27,
   "id": "9da78e27",
   "metadata": {},
   "outputs": [],
   "source": [
    "#Valve with longer input tube (more resistance)\n",
    "# RC problem\n",
    "#defining circuit properties\n",
    "# RC problem\n",
    "#defining circuit properties\n",
    "\n",
    "# Resistance\n",
    "nu =   1.8e-05 #air  #water 0.001  #Pa s\n",
    "lenghtValve = 800e-6 + 725e-6 #1.0 #m\n",
    "lenghtTube = 0.6\n",
    "lenghtTube2 = 40e-3\n",
    "\n",
    "r =150e-6 #3.0e-4 #m\n",
    "rho = 1000.0\n",
    "# it would be better to use Pressure/Flowrate\n",
    "\n",
    "#R = 47e3\n",
    "#C = 1000e-9\n",
    "Rvalv = 8.0*nu*lenghtValve/(math.pi*pow(r,4.0))   #5.6e9 #47e3\n",
    "Rcommon = 8.0*nu*lenghtTube/(math.pi*pow(r,4.0))   #5.6e9 #47e3\n",
    "RTube2 = 8.0*nu*lenghtTube2/(math.pi*pow(r,4.0))   #5.6e9 #47e3\n",
    "RLoss = Rcommon*0.1\n",
    "\n",
    "R = Rvalv + Rcommon + RLoss +RTube2"
   ]
  },
  {
   "cell_type": "code",
   "execution_count": 28,
   "id": "93e61c19",
   "metadata": {},
   "outputs": [],
   "source": [
    "#capacitance\n",
    "#Cap = 1/(.49e15)  #2.07e-12 #1000e-9\n",
    "#Cap = deltaP/deltaVol  pressure  needed to raise 1 volume\n",
    "volChamber = 100e-6*500e-6*450e-6 #100e-6*2e-3*1e-3# 0.0001*0.00002*0.001\n",
    "Percentage_Expansion = 1.3 #1.5 #0.5\n",
    "volTube = (lenghtValve+lenghtTube+lenghtTube2)*(3.1416*pow(r,2.0))\n",
    "dV =   volTube + volChamber \n",
    "dP = 40e3\n",
    "V1 = volChamber + volTube\n",
    "V2 = V1*Percentage_Expansion\n",
    "dV = abs(V2-V1)\n",
    "Cap = dV/dP"
   ]
  },
  {
   "cell_type": "code",
   "execution_count": 30,
   "id": "cd876076",
   "metadata": {},
   "outputs": [
    {
     "name": "stdout",
     "output_type": "stream",
     "text": [
      "vol chamber:    2.25E-11\n",
      "vol Tube:    4.53E-08\n",
      "vol Tot:    1.36E-08\n",
      "vol 1:    4.54E-08\n",
      "vol 2:    5.90E-08\n",
      "dV:    1.36E-08\n",
      "R:    6.35E+10\n",
      "C:  3.40e-13\n",
      "freq  7.363845913034516\n",
      "rc [s]:  0.021612968657799075\n",
      "5 *t [s]:  0.10806484328899538\n"
     ]
    }
   ],
   "source": [
    "print('vol chamber: ',format(volChamber,\"10.2E\"))\n",
    "print('vol Tube: ',format(volTube,\"10.2E\"))\n",
    "print('vol Tot: ',format(dV,\"10.2E\"))\n",
    "print('vol 1: ',format(V1,\"10.2E\"))\n",
    "print('vol 2: ',format(V2,\"10.2E\"))\n",
    "print('dV: ',format(dV,\"10.2E\"))\n",
    "print('R: ',format(R,\"10.2E\"))\n",
    "print('C: ',format(Cap,\"5.2e\"))\n",
    "print('freq ', 1/(2*3.1416*R*Cap)) # 1/(2*3.1416*pow(L*Cap,0.5)))\n",
    "print('rc [s]: ',R*Cap)\n",
    "print('5 *t [s]: ',5*R*Cap)"
   ]
  },
  {
   "cell_type": "code",
   "execution_count": 31,
   "id": "61e2275b",
   "metadata": {},
   "outputs": [
    {
     "name": "stdout",
     "output_type": "stream",
     "text": [
      "Tau 0.021612968657799075\n",
      "5 *Tau 0.10806484328899538\n"
     ]
    }
   ],
   "source": [
    "\n",
    "Tau = R*Cap\n",
    "print('Tau', Tau)\n",
    "print('5 *Tau',5*Tau)\n",
    "C =Cap\n",
    "#state space matrix\n",
    "A = [-1/(R*C)]\n",
    "B = [1/(R*C)]\n",
    "C = [1.0]\n",
    "D = [0.0]\n",
    "\n",
    "sys1 = signal.StateSpace(A,B,C,D)   # state space\n",
    "t2,y2 = signal.step(sys1)           # step response\n"
   ]
  },
  {
   "cell_type": "code",
   "execution_count": 32,
   "id": "db42e90b",
   "metadata": {
    "scrolled": true
   },
   "outputs": [
    {
     "name": "stderr",
     "output_type": "stream",
     "text": [
      "C:\\Users\\E90041\\Anaconda3\\lib\\site-packages\\scipy\\signal\\filter_design.py:1630: BadCoefficients: Badly conditioned filter coefficients (numerator): the results may be meaningless\n",
      "  warnings.warn(\"Badly conditioned filter coefficients (numerator): the \"\n"
     ]
    },
    {
     "data": {
      "image/png": "[encoded data removed]",
      "text/plain": [
       "<Figure size 432x288 with 2 Axes>"
      ]
     },
     "metadata": {
      "needs_background": "light"
     },
     "output_type": "display_data"
    }
   ],
   "source": [
    "plt.figure()\n",
    "plt.subplot(3,1,1)\n",
    "plt.plot(t2,y2,'r-',linewidth=3)\n",
    "plt.ylabel('Step response')\n",
    "plt.xlabel('Time(s)')\n",
    "plt.xlim(0, 0.15)\n",
    "plt.legend(['P'],loc='best')\n",
    "\n",
    "a= ss2tf(A, B, C, D)    #getting transfer function from State Space\n",
    "sys = signal.TransferFunction(a[0], a[1]) #Step Response\n",
    "w, mag, phase = signal.bode(sys)          #Freq. Response\n",
    "plt.subplot(3,1,3)\n",
    "plt.semilogx(w, mag)    # Bode magnitude plot\n",
    "plt.ylabel('BodePlot')\n",
    "plt.xlabel('freq [Hz]')\n",
    "plt.show()"
   ]
  },
  {
   "cell_type": "code",
   "execution_count": 33,
   "id": "a01a20d5",
   "metadata": {},
   "outputs": [
    {
     "data": {
      "image/png": "[encoded data removed]",
      "text/plain": [
       "<Figure size 576x432 with 1 Axes>"
      ]
     },
     "metadata": {
      "needs_background": "light"
     },
     "output_type": "display_data"
    }
   ],
   "source": [
    "# Initialise the figure and axes.\n",
    "fig, ax = plt.subplots(1, figsize=(8, 6))\n",
    "\n",
    "# Set the title for the figure\n",
    "fig.suptitle('Valve Transient Response', fontsize=15)\n",
    "\n",
    "# Draw all the lines in the same plot, assigning a label for each one to be\n",
    "# shown in the legend.\n",
    "ax.plot(t1, y1, color=\"red\", label=\"Valve 1\")\n",
    "ax.plot(t2, y2, color=\"green\", label=\"Valve 2\")\n",
    "plt.ylabel('Step response')\n",
    "plt.xlabel('Time(s)')\n",
    "\n",
    "# Add a legend, and position it on the lower right (with no box)\n",
    "plt.legend(loc=\"lower right\", title=\"Legend Title\", frameon=False)\n",
    "\n",
    "plt.show()"
   ]
  },
  {
   "cell_type": "code",
   "execution_count": null,
   "id": "b8abf593",
   "metadata": {},
   "outputs": [],
   "source": []
  },
  {
   "cell_type": "code",
   "execution_count": null,
   "id": "cee871e7",
   "metadata": {},
   "outputs": [],
   "source": []
  }
 ],
 "metadata": {
  "kernelspec": {
   "display_name": "Python 3",
   "language": "python",
   "name": "python3"
  },
  "language_info": {
   "codemirror_mode": {
    "name": "ipython",
    "version": 3
   },
   "file_extension": ".py",
   "mimetype": "text/x-python",
   "name": "python",
   "nbconvert_exporter": "python",
   "pygments_lexer": "ipython3",
   "version": "3.8.8"
  }
 },
 "nbformat": 4,
 "nbformat_minor": 5
}
